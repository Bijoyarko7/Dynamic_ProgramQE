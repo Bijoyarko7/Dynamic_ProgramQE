{
 "cells": [
  {
   "cell_type": "code",
   "execution_count": null,
   "id": "8c40534c-2e8f-4522-8e6e-fd677286ec87",
   "metadata": {},
   "outputs": [],
   "source": []
  },
  {
   "cell_type": "code",
   "execution_count": 2,
   "id": "5e3d074f-4e59-4b29-b9fd-75503c51adf9",
   "metadata": {
    "scrolled": true
   },
   "outputs": [],
   "source": [
    "import import_ipynb\n",
    "from s_approx import successive_approx\n",
    "import numpy as np"
   ]
  },
  {
   "cell_type": "code",
   "execution_count": 3,
   "id": "b924b2c8-7b90-42d5-be2e-17ca9f3172cc",
   "metadata": {},
   "outputs": [
    {
     "name": "stdout",
     "output_type": "stream",
     "text": [
      "Completed iteration 25 with error 2.911659384707832e-06.\n",
      "Terminated successfully in 28 iterations.\n",
      "True\n"
     ]
    }
   ],
   "source": [
    "# Compute the fixed point of Tx = Ax + b via linear algebra\n",
    "A = np.array([\n",
    "    [0.4, 0.1],\n",
    "    [0.7, 0.2]\n",
    "])\n",
    "\n",
    "b = np.array([\n",
    "    [1.0],\n",
    "    [2.0]\n",
    "])\n",
    "\n",
    "I = np.identity(2)\n",
    "x_star = np.linalg.solve(I - A, b)  # compute (I - A)^{-1} * b\n",
    "\n",
    "\n",
    "# Compute the fixed point via successive approximation\n",
    "T = lambda x: np.dot(A, x) + b\n",
    "x_0 = np.array([\n",
    "    [1.0],\n",
    "    [1.0]\n",
    "])\n",
    "x_star_approx = successive_approx(T, x_0)\n",
    "\n",
    "# Test for approximate equality (prints \"True\")\n",
    "print(np.allclose(x_star, x_star_approx, rtol=1e-5))"
   ]
  },
  {
   "cell_type": "code",
   "execution_count": null,
   "id": "98046079-72a3-4f61-8ba6-dbef222589ec",
   "metadata": {},
   "outputs": [],
   "source": []
  },
  {
   "cell_type": "code",
   "execution_count": null,
   "id": "b85f2ff3-1a59-478a-93ec-2d773b0fee3b",
   "metadata": {},
   "outputs": [],
   "source": []
  },
  {
   "cell_type": "code",
   "execution_count": null,
   "id": "ab3d874d-59d9-4d55-97dd-70e586a89edd",
   "metadata": {},
   "outputs": [],
   "source": []
  },
  {
   "cell_type": "code",
   "execution_count": null,
   "id": "3312a970-e7b5-4721-a337-f60e30c7f845",
   "metadata": {},
   "outputs": [],
   "source": []
  },
  {
   "cell_type": "code",
   "execution_count": null,
   "id": "3a60653a-da8b-4e8a-b1ef-b84b848d9f95",
   "metadata": {},
   "outputs": [],
   "source": []
  },
  {
   "cell_type": "code",
   "execution_count": null,
   "id": "7860a1d6-c73e-4ee6-a967-dd6e65d808af",
   "metadata": {},
   "outputs": [],
   "source": []
  },
  {
   "cell_type": "code",
   "execution_count": null,
   "id": "a39b8983-958d-42de-b3b2-9bcf6920698a",
   "metadata": {},
   "outputs": [],
   "source": []
  },
  {
   "cell_type": "code",
   "execution_count": null,
   "id": "283f5209-b7fc-4cd5-ae97-ed3ebbf6b42b",
   "metadata": {},
   "outputs": [],
   "source": []
  },
  {
   "cell_type": "code",
   "execution_count": null,
   "id": "cf774e97-4183-4a64-90bf-0aeeb06fe82d",
   "metadata": {},
   "outputs": [],
   "source": []
  },
  {
   "cell_type": "code",
   "execution_count": null,
   "id": "cee5dfc4-a028-44a5-80e4-ca25d64e3277",
   "metadata": {},
   "outputs": [],
   "source": []
  },
  {
   "cell_type": "code",
   "execution_count": null,
   "id": "2217861c-d966-4230-bb5b-e89dcf37ed98",
   "metadata": {},
   "outputs": [],
   "source": []
  },
  {
   "cell_type": "code",
   "execution_count": null,
   "id": "ed48a548-1430-457f-81aa-07092cf24e85",
   "metadata": {},
   "outputs": [],
   "source": []
  },
  {
   "cell_type": "code",
   "execution_count": null,
   "id": "355e2a52-0e07-418e-aff3-81810aa8421d",
   "metadata": {},
   "outputs": [],
   "source": []
  }
 ],
 "metadata": {
  "kernelspec": {
   "display_name": "Python 3 (ipykernel)",
   "language": "python",
   "name": "python3"
  },
  "language_info": {
   "codemirror_mode": {
    "name": "ipython",
    "version": 3
   },
   "file_extension": ".py",
   "mimetype": "text/x-python",
   "name": "python",
   "nbconvert_exporter": "python",
   "pygments_lexer": "ipython3",
   "version": "3.12.7"
  }
 },
 "nbformat": 4,
 "nbformat_minor": 5
}
