{
 "cells": [
  {
   "cell_type": "code",
   "execution_count": null,
   "id": "c84a3ee3-1cd5-4b77-9c01-bb81de6b8123",
   "metadata": {},
   "outputs": [],
   "source": [
    "@njit\n",
    "def v_1(w, model):\n",
    "    \"\"\"\n",
    "    Computes lifetime value at t=1 given current wage w_1 = w\n",
    "    \"\"\"\n",
    "    β, c = model.β, model.c\n",
    "    s = np.maximum(c, model.w_vals)\n",
    "    h_1 = c + β * np.sum(s * model.φ)\n",
    "    return np.maximum(w + β * w, h_1)\n",
    "\n",
    "\n",
    "@njit\n",
    "def res_wage(model):\n",
    "    \"\"\"\n",
    "    Computes reservation wage at t=1\n",
    "    \"\"\"\n",
    "    β, c = model.β, model.c\n",
    "    s = np.maximum(c, model.w_vals)\n",
    "    h_1 = c + β * np.sum(s * model.φ)\n",
    "    return h_1 / (1 + β)\n",
    "\n",
    "\n",
    "\n",
    "##### Plots #####\n",
    "\n",
    "default_model = create_job_search_model()\n",
    "\n",
    "\n",
    "def fig_dist(model=default_model, fs=10):\n",
    "    \"\"\"\n",
    "    Plot the distribution of wages\n",
    "    \"\"\"\n",
    "    fig, ax = plt.subplots()\n",
    "    ax.plot(model.w_vals, model.φ, \"-o\", alpha=0.5, label=\"wage distribution\")\n",
    "    ax.legend(loc=\"upper left\", fontsize=fs)\n",
    "    plt.show()\n",
    "\n",
    "\n",
    "def fig_v1(model=default_model, savefig=False,\n",
    "           figname=\"../figures_py/iid_job_search_0_py.png\", fs=12):\n",
    "    \"\"\"\n",
    "    Plot two-period value function and res wage\n",
    "    \"\"\"\n",
    "    n, w_vals, φ, β, c = model\n",
    "\n",
    "    v = [v_1(w, model) for w in w_vals]\n",
    "    w_star = res_wage(model)\n",
    "    s = np.maximum(c, w_vals)\n",
    "    continuation_val = c + β * np.sum(s * φ)\n",
    "    min_w, max_w = np.min(w_vals), np.max(w_vals)\n",
    "\n",
    "    fontdict = {'fontsize': 10}\n",
    "    fig, ax = plt.subplots(figsize=(9, 5.5))\n",
    "    ax.set_ylim(0, 120)\n",
    "    ax.set_xlim(min_w, max_w)\n",
    "    ax.vlines((w_star,), (0,), (continuation_val,), lw=0.5)\n",
    "    ax.set_yticks((0, 50, 100))\n",
    "    ax.set_yticklabels((0, 50, 100), fontdict=fontdict)\n",
    "    ax.set_xticks((min_w, w_star, max_w))\n",
    "    ax.set_xticklabels((min_w, r\"$w^*_1$\", max_w), fontdict=fontdict)\n",
    "    ax.plot(w_vals, w_vals + β * w_vals, alpha=0.8, linewidth=3,\n",
    "            label=r\"$w_1 + \\beta w_1$\")\n",
    "    ax.plot(w_vals, [continuation_val]*(n+1), linewidth=3, alpha=0.8,\n",
    "            label=r\"$c + \\beta \\sum_{w'} \\max\\{c, w'\\} \\varphi(w')$\" )\n",
    "    ax.plot(w_vals, v, \"k--\", markersize=2, alpha=1.0, linewidth=2,\n",
    "            label=r\"$v_1(w_1)$\")\n",
    "    ax.legend(frameon=False, fontsize=fs, loc=\"upper left\")\n",
    "    if savefig:\n",
    "        fig.savefig(figname)\n",
    "    plt.show()\n",
    "\n",
    "fig_v1(savefig=True)"
   ]
  },
  {
   "cell_type": "code",
   "execution_count": 3,
   "id": "db1efd62-aa41-46da-b744-f1f61aedccb8",
   "metadata": {},
   "outputs": [
    {
     "name": "stderr",
     "output_type": "stream",
     "text": [
      "Matplotlib is building the font cache; this may take a moment.\n"
     ]
    }
   ],
   "source": [
    "from quantecon.distributions import BetaBinomial\n",
    "\n",
    "import numpy as np\n",
    "from numba import njit\n",
    "from collections import namedtuple\n",
    "import matplotlib.pyplot as plt"
   ]
  },
  {
   "cell_type": "code",
   "execution_count": 4,
   "id": "9bf7ed40-e293-4b96-9f1d-54d315a28407",
   "metadata": {},
   "outputs": [],
   "source": [
    "φ = BetaBinomial(n=50, a=100, b=200).pdf()"
   ]
  },
  {
   "cell_type": "code",
   "execution_count": 5,
   "id": "57b4dcce-f252-4c26-9b2c-b91927a6398d",
   "metadata": {},
   "outputs": [
    {
     "data": {
      "text/plain": [
       "array([9.47465401e-09, 1.90254097e-07, 1.89832162e-06, 1.25427566e-05,\n",
       "       6.17067935e-05, 2.40983918e-04, 7.77765720e-04, 2.13256868e-03,\n",
       "       5.06815521e-03, 1.05989636e-02, 1.97361535e-02, 3.30312192e-02,\n",
       "       5.00672786e-02, 6.91614209e-02, 8.75193404e-02, 1.01894858e-01,\n",
       "       1.09542415e-01, 1.09072276e-01, 1.00844841e-01, 8.67601096e-02,\n",
       "       6.95778357e-02, 5.20857161e-02, 3.64371566e-02, 2.38401316e-02,\n",
       "       1.45968062e-02, 8.36624059e-03, 4.48909716e-03, 2.25461382e-03,\n",
       "       1.05947988e-03, 4.65516517e-04, 1.91073370e-04, 7.31758378e-05,\n",
       "       2.61087529e-05, 8.66281202e-06, 2.66702315e-06, 7.59880083e-07,\n",
       "       1.99734835e-07, 4.82546790e-08, 1.06680218e-08, 2.14682757e-09,\n",
       "       3.90773732e-10, 6.38444655e-11, 9.27411020e-12, 1.18361860e-12,\n",
       "       1.30715161e-13, 1.22425907e-14, 9.45852331e-16, 5.78951642e-17,\n",
       "       2.63322684e-18, 7.91385058e-20, 1.17916374e-21])"
      ]
     },
     "execution_count": 5,
     "metadata": {},
     "output_type": "execute_result"
    }
   ],
   "source": [
    "φ"
   ]
  },
  {
   "cell_type": "code",
   "execution_count": 17,
   "id": "4708c4d9-2571-484d-91f0-99e7b5d7e808",
   "metadata": {},
   "outputs": [],
   "source": [
    "# NamedTuple Model\n",
    "Model = namedtuple(\"Model\", (\"n\", \"w_vals\", \"φ\", \"β\", \"c\"))\n",
    "\n",
    "\n",
    "def create_job_search_model(\n",
    "        n=50,        # wage grid size\n",
    "        w_min=5.0,  # lowest wage\n",
    "        w_max=55.0,  # highest wage\n",
    "        a=200,       # wage distribution parameter\n",
    "        b=100,       # wage distribution parameter\n",
    "        β=0.96,      # discount factor\n",
    "        c=10.0       # unemployment compensation\n",
    "    ):\n",
    "    \"\"\"\n",
    "    Creates the parameters for job search model and returns the\n",
    "    instance of namedtuple Model\n",
    "    \"\"\"\n",
    "    w_vals = np.linspace(w_min, w_max, n+1)\n",
    "    φ = BetaBinomial(n, a, b).pdf()\n",
    "    return Model(n=n, w_vals=w_vals, φ=φ, β=β, c=c)\n"
   ]
  },
  {
   "cell_type": "code",
   "execution_count": 21,
   "id": "d886377a-cb4e-4071-a0c9-753ad46cda19",
   "metadata": {},
   "outputs": [],
   "source": [
    "@njit\n",
    "def res_wage(model):\n",
    "    \"\"\"\n",
    "    Computes reservation wage at t=1\n",
    "    \"\"\"\n",
    "    β, c = model.β, model.c\n",
    "    s = np.maximum(c, model.w_vals)\n",
    "    h_1 = c + β * np.sum(s * model.φ)\n",
    "    return h_1"
   ]
  },
  {
   "cell_type": "code",
   "execution_count": 22,
   "id": "3f374eb3-568a-4cae-adcd-9560c7b5c172",
   "metadata": {},
   "outputs": [],
   "source": [
    "job_model=create_job_search_model()"
   ]
  },
  {
   "cell_type": "code",
   "execution_count": 23,
   "id": "673c6ef6-3193-4fdb-93c9-8dff155cfc6b",
   "metadata": {},
   "outputs": [
    {
     "data": {
      "text/plain": [
       "46.800000000012176"
      ]
     },
     "execution_count": 23,
     "metadata": {},
     "output_type": "execute_result"
    }
   ],
   "source": [
    "res_wage(job_model)"
   ]
  },
  {
   "cell_type": "code",
   "execution_count": null,
   "id": "4cdf1800-02b0-4e2d-8525-bb91338f1321",
   "metadata": {},
   "outputs": [],
   "source": []
  },
  {
   "cell_type": "code",
   "execution_count": null,
   "id": "b3d60e3b-a7fb-4f9e-898b-820f5c1c932b",
   "metadata": {},
   "outputs": [],
   "source": []
  },
  {
   "cell_type": "code",
   "execution_count": null,
   "id": "871ca513-ba54-4b9b-86c1-f4f56a059c54",
   "metadata": {},
   "outputs": [],
   "source": []
  },
  {
   "cell_type": "code",
   "execution_count": null,
   "id": "ca16e526-1831-48c0-a5e3-e0ee8e940ba0",
   "metadata": {},
   "outputs": [],
   "source": []
  },
  {
   "cell_type": "code",
   "execution_count": null,
   "id": "f6bc1b76-7a35-4fc4-954c-11ae1883785e",
   "metadata": {},
   "outputs": [],
   "source": []
  },
  {
   "cell_type": "code",
   "execution_count": null,
   "id": "f273beea-3e38-4243-8535-247cc08b9f11",
   "metadata": {},
   "outputs": [],
   "source": []
  },
  {
   "cell_type": "code",
   "execution_count": null,
   "id": "dcb8d5ff-1a95-4008-a926-364ff061f977",
   "metadata": {},
   "outputs": [],
   "source": []
  },
  {
   "cell_type": "code",
   "execution_count": null,
   "id": "1a42a763-45d0-41c4-8e5b-a9930606ba6e",
   "metadata": {},
   "outputs": [],
   "source": []
  },
  {
   "cell_type": "code",
   "execution_count": null,
   "id": "8e9d0971-f6f4-469b-af4f-bdda68b4072e",
   "metadata": {},
   "outputs": [],
   "source": []
  },
  {
   "cell_type": "code",
   "execution_count": null,
   "id": "56ca0206-8b86-4973-83ed-72b3caddad19",
   "metadata": {},
   "outputs": [],
   "source": []
  },
  {
   "cell_type": "code",
   "execution_count": null,
   "id": "e9e2b023-0ac5-447a-b814-d1bf2243cfa2",
   "metadata": {},
   "outputs": [],
   "source": []
  },
  {
   "cell_type": "code",
   "execution_count": null,
   "id": "54b7b22d-3ad5-46a2-9e91-770873b7e936",
   "metadata": {},
   "outputs": [],
   "source": []
  },
  {
   "cell_type": "code",
   "execution_count": null,
   "id": "9ef78d65-35b2-4d7d-8b44-dca5838e3035",
   "metadata": {},
   "outputs": [],
   "source": []
  },
  {
   "cell_type": "code",
   "execution_count": null,
   "id": "c96247da-ca6f-4ad0-9afd-934213d6763c",
   "metadata": {},
   "outputs": [],
   "source": []
  },
  {
   "cell_type": "code",
   "execution_count": null,
   "id": "18ec4362-880f-462c-a4bf-ba445109dcd1",
   "metadata": {},
   "outputs": [],
   "source": []
  },
  {
   "cell_type": "code",
   "execution_count": null,
   "id": "e676592f-4f5b-4f1f-b67e-64caa2fbf5b0",
   "metadata": {},
   "outputs": [],
   "source": []
  },
  {
   "cell_type": "code",
   "execution_count": null,
   "id": "4a1b4b5f-a89d-4cf3-8d5b-ff2e6b072b4c",
   "metadata": {},
   "outputs": [],
   "source": []
  },
  {
   "cell_type": "code",
   "execution_count": null,
   "id": "2a2e978d-87b3-444e-b857-004b3eb470b5",
   "metadata": {},
   "outputs": [],
   "source": []
  },
  {
   "cell_type": "code",
   "execution_count": null,
   "id": "ca77cf0a-b46f-4007-9d43-dc04a8a0f2bd",
   "metadata": {},
   "outputs": [],
   "source": []
  },
  {
   "cell_type": "code",
   "execution_count": null,
   "id": "822fd7cd-bafd-4f4e-8d0a-45ccd4d284a2",
   "metadata": {},
   "outputs": [],
   "source": []
  },
  {
   "cell_type": "code",
   "execution_count": null,
   "id": "9c68c6e9-acde-4656-a7c5-21c6cb7fce16",
   "metadata": {},
   "outputs": [],
   "source": []
  },
  {
   "cell_type": "code",
   "execution_count": null,
   "id": "14f2ad02-7ab2-434b-8301-2cde8f48ece3",
   "metadata": {},
   "outputs": [],
   "source": []
  }
 ],
 "metadata": {
  "kernelspec": {
   "display_name": "Python 3 (ipykernel)",
   "language": "python",
   "name": "python3"
  },
  "language_info": {
   "codemirror_mode": {
    "name": "ipython",
    "version": 3
   },
   "file_extension": ".py",
   "mimetype": "text/x-python",
   "name": "python",
   "nbconvert_exporter": "python",
   "pygments_lexer": "ipython3",
   "version": "3.12.7"
  }
 },
 "nbformat": 4,
 "nbformat_minor": 5
}
