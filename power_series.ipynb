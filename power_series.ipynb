{
 "cells": [
  {
   "cell_type": "code",
   "execution_count": null,
   "id": "dd9c4655-af92-46d0-bb9b-6843fb4dc64a",
   "metadata": {},
   "outputs": [],
   "source": [
    "\n",
    "\n",
    "\n",
    "\n",
    "\n"
   ]
  },
  {
   "cell_type": "code",
   "execution_count": 1,
   "id": "1478367e-17fe-4d97-aeae-ddf4db09ab5d",
   "metadata": {},
   "outputs": [],
   "source": [
    "import numpy as np"
   ]
  },
  {
   "cell_type": "code",
   "execution_count": 2,
   "id": "81071556-1781-4c99-847b-490139ff77d1",
   "metadata": {},
   "outputs": [],
   "source": [
    "# Primitives\n",
    "A = np.array([\n",
    "    [0.4, 0.1],\n",
    "    [0.7, 0.2]\n",
    "])\n",
    "\n",
    "\n",
    "# Method one: direct inverse\n",
    "I = np.identity(2)\n",
    "B_inverse = np.linalg.inv(I - A)"
   ]
  },
  {
   "cell_type": "code",
   "execution_count": 3,
   "id": "211712d6-8693-41a6-a2d0-4b9c39e8efdd",
   "metadata": {},
   "outputs": [],
   "source": [
    "# Method two: power series\n",
    "def power_series(A):\n",
    "    B_sum = np.zeros((2, 2))\n",
    "    A_power = np.identity(2)\n",
    "    for k in range(50):\n",
    "        B_sum += A_power\n",
    "        A_power = np.dot(A_power, A)\n",
    "    return B_sum\n"
   ]
  },
  {
   "cell_type": "code",
   "execution_count": 4,
   "id": "631c8230-46ce-4247-87f1-cdc2b6d73dd9",
   "metadata": {},
   "outputs": [
    {
     "name": "stdout",
     "output_type": "stream",
     "text": [
      "5.6210591736771676e-12\n"
     ]
    }
   ],
   "source": [
    "# Print maximal error\n",
    "print(np.max(np.abs(B_inverse - power_series(A))))"
   ]
  },
  {
   "cell_type": "code",
   "execution_count": null,
   "id": "90d0b685-9ede-4550-9817-b0ed10134804",
   "metadata": {},
   "outputs": [],
   "source": []
  },
  {
   "cell_type": "code",
   "execution_count": null,
   "id": "4d4fad2c-1f38-498d-bd79-edecd3888899",
   "metadata": {},
   "outputs": [],
   "source": []
  },
  {
   "cell_type": "code",
   "execution_count": null,
   "id": "69b3c833-40f8-4aa8-94e5-54e47bf237f0",
   "metadata": {},
   "outputs": [],
   "source": []
  },
  {
   "cell_type": "code",
   "execution_count": null,
   "id": "f18f6bf3-6898-40d0-a183-14cc9d677b1d",
   "metadata": {},
   "outputs": [],
   "source": []
  }
 ],
 "metadata": {
  "kernelspec": {
   "display_name": "Python 3 (ipykernel)",
   "language": "python",
   "name": "python3"
  },
  "language_info": {
   "codemirror_mode": {
    "name": "ipython",
    "version": 3
   },
   "file_extension": ".py",
   "mimetype": "text/x-python",
   "name": "python",
   "nbconvert_exporter": "python",
   "pygments_lexer": "ipython3",
   "version": "3.12.7"
  }
 },
 "nbformat": 4,
 "nbformat_minor": 5
}
