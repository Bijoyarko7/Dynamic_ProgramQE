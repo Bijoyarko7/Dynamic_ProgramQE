{
 "cells": [
  {
   "cell_type": "code",
   "execution_count": null,
   "id": "2749bd30-d4a1-429d-bcea-78e22ee3e035",
   "metadata": {},
   "outputs": [],
   "source": [
    "# NamedTuple Model\n",
    "Model = namedtuple(\"Model\", (\"S\", \"s\", \"p\", \"φ\", \"h\"))\n",
    "\n",
    "def create_inventory_model(S=100,   # Order size\n",
    "                           s=10,    # Order threshold\n",
    "                           p=0.4):  # Demand parameter\n",
    "    φ = geom(p, loc=-1) # loc sets support to {0,1,...}\n",
    "    h = lambda x, d: max(x - d, 0) + S*(x <= s)\n",
    "    return Model(S=S, s=s, p=p, φ=φ, h=h)\n",
    "\n",
    "\n",
    "def sim_inventories(model, ts_length=200):\n",
    "    \"\"\"Simulate the inventory process.\"\"\"\n",
    "    S, s, p, φ, h = model\n",
    "    X = np.empty(ts_length)\n",
    "    X[0] = S  # Initial condition\n",
    "    for t in range(0, ts_length - 1):\n",
    "        X[t+1] = h(X[t], φ.rvs())\n",
    "    return X\n",
    "\n",
    "\n",
    "def compute_mc(model, d_max=100):\n",
    "    \"\"\"Compute the transition probabilities and state.\"\"\"\n",
    "    S, s, p, φ, h = model\n",
    "    n = S + s + 1  # Size of state space\n",
    "    state_vals = np.arange(n)\n",
    "    P = np.empty((n, n))\n",
    "    for (i, j) in product(range(0, n), range(0, n)):\n",
    "        P[i, j] = sum((h(i, d) == j)*φ.pmf(d) for d in range(d_max+1))\n",
    "    return MarkovChain(P, state_vals)\n",
    "\n",
    "\n",
    "def compute_stationary_dist(model):\n",
    "    \"\"\"Compute the stationary distribution of the model.\"\"\"\n",
    "    mc = compute_mc(model)\n",
    "    return mc.state_values, mc.stationary_distributions[0]\n",
    "\n",
    "\n",
    "\n",
    "# Plots\n",
    "\n",
    "default_model = create_inventory_model()\n",
    "\n",
    "\n",
    "def plot_ts(model, fontsize=16,\n",
    "            figname=\"../figures_py/inventory_sim_1.png\",\n",
    "            savefig=False):\n",
    "    S, s, p, φ, h = model\n",
    "    X = sim_inventories(model)\n",
    "    fig, ax = plt.subplots(figsize=(9, 5.2))\n",
    "    ax.plot(X, label=r\"$X_t$\", linewidth=3, alpha=0.6)\n",
    "    fontdict = {'fontsize': fontsize}\n",
    "    ax.set_xlabel(r\"$t$\", fontdict=fontdict)\n",
    "    ax.set_ylabel(\"inventory\", fontdict=fontdict)\n",
    "    ax.legend(fontsize=fontsize, frameon=False)\n",
    "    ax.set_ylim(0, S + s + 20)\n",
    "\n",
    "    plt.show()\n",
    "    if savefig:\n",
    "        fig.savefig(figname)\n",
    "\n",
    "\n",
    "def plot_hist(model, fontsize=16,\n",
    "              figname=\"../figures_py/inventory_sim_2.png\",\n",
    "              savefig=False):\n",
    "    S, s, p, φ, h = model\n",
    "    state_values, ψ_star = compute_stationary_dist(model)\n",
    "    X = sim_inventories(model, 1_000_000)\n",
    "    histogram = [np.mean(X == i) for i in state_values]\n",
    "\n",
    "    fig, ax = plt.subplots(figsize=(9, 5.2))\n",
    "    ax.plot(state_values, ψ_star, \"k-\",  linewidth=3, alpha=0.7,\n",
    "                label=r\"$\\psi^*$\")\n",
    "    ax.bar(state_values, histogram, alpha=0.7, label=\"frequency\")\n",
    "    fontdict = {'fontsize': fontsize}\n",
    "    ax.set_xlabel(\"state\", fontdict=fontdict)\n",
    "\n",
    "    ax.legend(fontsize=fontsize, frameon=False)\n",
    "    ax.set_ylim(0, 0.015)\n",
    "\n",
    "    plt.show()\n",
    "    if savefig:\n",
    "        fig.savefig(figname)\n",
    "\n",
    "plot_ts(default_model, savefig=True)\n",
    "plot_hist(default_model, savefig=True)"
   ]
  },
  {
   "cell_type": "code",
   "execution_count": 1,
   "id": "693eaf84-0311-4822-9a3c-7b083a2f998b",
   "metadata": {},
   "outputs": [],
   "source": [
    "import numpy as np\n",
    "from scipy.stats import geom\n",
    "from itertools import product\n",
    "from quantecon import MarkovChain\n",
    "from collections import namedtuple\n",
    "import matplotlib.pyplot as plt"
   ]
  },
  {
   "cell_type": "code",
   "execution_count": null,
   "id": "f2439975-49d8-48e4-8df2-1cd66f0eee37",
   "metadata": {},
   "outputs": [],
   "source": []
  },
  {
   "cell_type": "code",
   "execution_count": null,
   "id": "3ea68361-c799-4f10-9e07-be78657002e3",
   "metadata": {},
   "outputs": [],
   "source": []
  },
  {
   "cell_type": "code",
   "execution_count": null,
   "id": "1a02c79f-f25d-4776-9398-3888904c8df0",
   "metadata": {},
   "outputs": [],
   "source": []
  },
  {
   "cell_type": "code",
   "execution_count": null,
   "id": "977afb94-b8c1-4a4f-ae9b-339b48425f13",
   "metadata": {},
   "outputs": [],
   "source": []
  },
  {
   "cell_type": "code",
   "execution_count": null,
   "id": "4bc9c423-bf13-43a3-adbf-7747dda2825f",
   "metadata": {},
   "outputs": [],
   "source": []
  },
  {
   "cell_type": "code",
   "execution_count": null,
   "id": "4626b22c-beee-4cae-98b7-2164387db165",
   "metadata": {},
   "outputs": [],
   "source": []
  },
  {
   "cell_type": "code",
   "execution_count": null,
   "id": "602bd9c0-997e-45e0-bdb7-55c283d4cae5",
   "metadata": {},
   "outputs": [],
   "source": []
  },
  {
   "cell_type": "code",
   "execution_count": null,
   "id": "d701857a-b65e-426a-9341-1c339552024b",
   "metadata": {},
   "outputs": [],
   "source": []
  },
  {
   "cell_type": "code",
   "execution_count": null,
   "id": "44e4f7c4-0f54-4c35-ba2a-77063841322b",
   "metadata": {},
   "outputs": [],
   "source": []
  },
  {
   "cell_type": "code",
   "execution_count": null,
   "id": "5ae3fdd8-9fab-479f-b2bf-25b8fad97c3f",
   "metadata": {},
   "outputs": [],
   "source": []
  },
  {
   "cell_type": "code",
   "execution_count": null,
   "id": "9bb414bf-832d-413d-b5fa-e16cd87b9775",
   "metadata": {},
   "outputs": [],
   "source": []
  },
  {
   "cell_type": "code",
   "execution_count": null,
   "id": "b4db4582-b9bf-45c1-99bc-9287bb8ef8b0",
   "metadata": {},
   "outputs": [],
   "source": []
  },
  {
   "cell_type": "code",
   "execution_count": null,
   "id": "405ec7e0-f9c9-452d-9f94-ba276b81f555",
   "metadata": {},
   "outputs": [],
   "source": []
  },
  {
   "cell_type": "code",
   "execution_count": null,
   "id": "c651d5a5-f521-4a25-b2bc-cc978b5b9cff",
   "metadata": {},
   "outputs": [],
   "source": []
  },
  {
   "cell_type": "code",
   "execution_count": null,
   "id": "88302f57-c288-4f60-aa5d-835fbc827d84",
   "metadata": {},
   "outputs": [],
   "source": []
  },
  {
   "cell_type": "code",
   "execution_count": null,
   "id": "fb1511b4-c463-4ff9-b5a6-dc02542e26df",
   "metadata": {},
   "outputs": [],
   "source": []
  },
  {
   "cell_type": "code",
   "execution_count": null,
   "id": "0e957d8d-6666-4060-871a-cb05d881da9c",
   "metadata": {},
   "outputs": [],
   "source": []
  },
  {
   "cell_type": "code",
   "execution_count": null,
   "id": "92d06399-6fd4-4272-8a52-c89aa6c976cb",
   "metadata": {},
   "outputs": [],
   "source": []
  },
  {
   "cell_type": "code",
   "execution_count": null,
   "id": "7a3e96a1-f782-41fb-8338-e9a050588d26",
   "metadata": {},
   "outputs": [],
   "source": []
  },
  {
   "cell_type": "code",
   "execution_count": null,
   "id": "8a8cd217-4215-4c83-84d3-be09eebb5ef3",
   "metadata": {},
   "outputs": [],
   "source": []
  },
  {
   "cell_type": "code",
   "execution_count": null,
   "id": "5c279388-f6d5-4b50-91f1-38ce5095122b",
   "metadata": {},
   "outputs": [],
   "source": []
  },
  {
   "cell_type": "code",
   "execution_count": null,
   "id": "73fb1497-e7c7-4e2e-94be-33e7e0bc1440",
   "metadata": {},
   "outputs": [],
   "source": []
  },
  {
   "cell_type": "code",
   "execution_count": null,
   "id": "1e39efd6-e0f3-45b9-bb8a-057534c2f8ec",
   "metadata": {},
   "outputs": [],
   "source": []
  },
  {
   "cell_type": "code",
   "execution_count": null,
   "id": "ad985190-ed77-4355-a2a7-c3ba51aacd0f",
   "metadata": {},
   "outputs": [],
   "source": []
  },
  {
   "cell_type": "code",
   "execution_count": null,
   "id": "b291e494-b6b0-40c1-8b72-99a26622c7ee",
   "metadata": {},
   "outputs": [],
   "source": []
  },
  {
   "cell_type": "code",
   "execution_count": null,
   "id": "2eac3a68-d5d4-415c-a23d-3005c7097b79",
   "metadata": {},
   "outputs": [],
   "source": []
  }
 ],
 "metadata": {
  "kernelspec": {
   "display_name": "Python 3 (ipykernel)",
   "language": "python",
   "name": "python3"
  },
  "language_info": {
   "codemirror_mode": {
    "name": "ipython",
    "version": 3
   },
   "file_extension": ".py",
   "mimetype": "text/x-python",
   "name": "python",
   "nbconvert_exporter": "python",
   "pygments_lexer": "ipython3",
   "version": "3.12.7"
  }
 },
 "nbformat": 4,
 "nbformat_minor": 5
}
