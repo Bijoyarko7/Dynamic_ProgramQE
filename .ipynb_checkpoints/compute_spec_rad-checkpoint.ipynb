{
 "cells": [
  {
   "cell_type": "code",
   "execution_count": null,
   "id": "e894ca7f-2f49-4dd9-bb37-6d3574afe569",
   "metadata": {},
   "outputs": [],
   "source": [
    "\n",
    "\n",
    "\n",
    "\n"
   ]
  },
  {
   "cell_type": "code",
   "execution_count": 1,
   "id": "8dcfd7c5-1c9c-4e51-b41b-0124e3e7ece1",
   "metadata": {},
   "outputs": [],
   "source": [
    "import numpy as np"
   ]
  },
  {
   "cell_type": "code",
   "execution_count": 2,
   "id": "0983c3cc-ec89-4e24-b247-269d38a449fb",
   "metadata": {},
   "outputs": [],
   "source": [
    "# Spectral radius\n",
    "ρ = lambda A: np.max(np.abs(np.linalg.eigvals(A)))"
   ]
  },
  {
   "cell_type": "code",
   "execution_count": 3,
   "id": "665e3641-def0-407d-991a-4cb27c09832e",
   "metadata": {},
   "outputs": [],
   "source": [
    "# Test with arbitrary A\n",
    "A = np.array([\n",
    "    [0.4, 0.1],\n",
    "    [0.7, 0.2]\n",
    "])"
   ]
  },
  {
   "cell_type": "code",
   "execution_count": 4,
   "id": "b5d335c0-c329-4ee8-98da-726bbfa6fefb",
   "metadata": {},
   "outputs": [
    {
     "name": "stdout",
     "output_type": "stream",
     "text": [
      "0.5828427124746189\n"
     ]
    }
   ],
   "source": [
    "print(ρ(A))"
   ]
  },
  {
   "cell_type": "code",
   "execution_count": null,
   "id": "a7c68f62-bc55-41ec-b20b-20ec5a7dc141",
   "metadata": {},
   "outputs": [],
   "source": []
  },
  {
   "cell_type": "code",
   "execution_count": null,
   "id": "7db7d54d-363a-4165-97aa-0b935042f4e7",
   "metadata": {},
   "outputs": [],
   "source": []
  },
  {
   "cell_type": "code",
   "execution_count": null,
   "id": "dabdb34d-167c-4a1a-bb5d-9806a8dbf0e4",
   "metadata": {},
   "outputs": [],
   "source": []
  },
  {
   "cell_type": "code",
   "execution_count": null,
   "id": "426b77e7-2ed0-4e16-a58c-ace7e43af56e",
   "metadata": {},
   "outputs": [],
   "source": []
  },
  {
   "cell_type": "code",
   "execution_count": null,
   "id": "516e6840-e16a-4b17-bf28-e427a298db0e",
   "metadata": {},
   "outputs": [],
   "source": []
  },
  {
   "cell_type": "code",
   "execution_count": null,
   "id": "0e24bd70-2df3-4d54-8b2e-052736bf810e",
   "metadata": {},
   "outputs": [],
   "source": []
  },
  {
   "cell_type": "code",
   "execution_count": null,
   "id": "db135335-fe26-49cf-8c3b-4a6e74362f46",
   "metadata": {},
   "outputs": [],
   "source": []
  }
 ],
 "metadata": {
  "kernelspec": {
   "display_name": "Python 3 (ipykernel)",
   "language": "python",
   "name": "python3"
  },
  "language_info": {
   "codemirror_mode": {
    "name": "ipython",
    "version": 3
   },
   "file_extension": ".py",
   "mimetype": "text/x-python",
   "name": "python",
   "nbconvert_exporter": "python",
   "pygments_lexer": "ipython3",
   "version": "3.12.7"
  }
 },
 "nbformat": 4,
 "nbformat_minor": 5
}
